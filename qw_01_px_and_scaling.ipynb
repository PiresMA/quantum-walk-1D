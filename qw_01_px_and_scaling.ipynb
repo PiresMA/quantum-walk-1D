{
 "cells": [
  {
   "cell_type": "code",
   "execution_count": 1,
   "metadata": {},
   "outputs": [],
   "source": [
    "import random as rd\n",
    "import numpy as np\n",
    "import math as mt\n",
    "import cmath as cmt\n",
    "from matplotlib import pylab as plt"
   ]
  },
  {
   "cell_type": "code",
   "execution_count": 2,
   "metadata": {},
   "outputs": [],
   "source": [
    "tmax  = 100\n",
    "vtime = np.arange(0,tmax+1,1)\n",
    "\n",
    "\n",
    "##   coin=0: KEMPE    coin=1: HADAMARD\n",
    "coin = 1\n",
    "\n",
    "# For the coin operator\n",
    "thetDeg = 45\n",
    "theta    = mt.radians( thetDeg ) \n",
    "\n",
    "# IC over the Bloch sphere\n",
    "phiDeg   = (1-coin)*0 + coin*90   # Symmetric IC:  coin=0:  phiDeg=90 (KEMPE)    coin=1: phiDeg=90 (HADAMARD)\n",
    "phiBloch = mt.radians(phiDeg)\n",
    "\n",
    "gamDeg  = 90\n",
    "gamBloch = mt.radians( gamDeg )"
   ]
  },
  {
   "cell_type": "code",
   "execution_count": 3,
   "metadata": {},
   "outputs": [],
   "source": [
    "##   coin=0: KEMPE    coin=1: HADAMARD\n",
    "c11 = ( (1-coin)*(1 )  +  coin*( 1) ) * np.cos(theta)\n",
    "c12 = ( (1-coin)*(1j)  +  coin*( 1) ) * np.sin(theta)\n",
    "c21 = ( (1-coin)*(1j)  +  coin*( 1) ) * np.sin(theta)\n",
    "c22 = ( (1-coin)*(1 )  +  coin*(-1) ) * np.cos(theta)"
   ]
  },
  {
   "cell_type": "code",
   "execution_count": 4,
   "metadata": {},
   "outputs": [],
   "source": [
    "# Compute the components of An|0> + Bn|1>\n",
    "def recursive_qw_dx_A_B():\n",
    "\n",
    "  veci   = range(dx,npos-dx,1) \n",
    "  vecAA1 =  c11*vecA1[ veci - dx ] + c12*vecB1[ veci - dx ] \n",
    "  vecBB1 =  c21*vecA1[ veci + dx ] + c22*vecB1[ veci + dx ] \n",
    " \n",
    "  # Right/Left boundaries\n",
    "  vecAA1 = np.concatenate( (np.zeros(dx),vecAA1,np.zeros(dx)), axis=None)\n",
    "  vecBB1 = np.concatenate( (np.zeros(dx),vecBB1,np.zeros(dx)), axis=None)\n",
    "\n",
    "  return vecAA1,vecBB1\n",
    "\n",
    "def recursive_CW(): # classical walk\n",
    "  veci    = np.arange(dx,npos-dx,1)\n",
    "  vpCW2 = 0.5*vpCW[veci-dx] +  0.5*vpCW[veci+dx]\n",
    "  vpCW3 = np.concatenate( (np.zeros(dx),vpCW2,np.zeros(dx)), axis=None)\n",
    "  \n",
    "  return vpCW3"
   ]
  },
  {
   "cell_type": "code",
   "execution_count": 5,
   "metadata": {},
   "outputs": [],
   "source": [
    "# Now we set all sep lengtht with dx=1, but later we ca use different dx at each time\n",
    "vdx   = np.asarray(  1*np.ones( len(vtime) ) , dtype=int)\n",
    "sumdx = np.sum(vdx) \n",
    "\n",
    "xpos = np.arange(-int(sumdx)-1, int(sumdx)+2, 1) # [-L-2,...,L+2], to avoid Boundary issues we use plus/minus 2 \n",
    "npos = len(xpos)\n",
    "xc   = xpos.size//2      # central position = L   #Index Start at 0 #print(\" xc:\",xc,xpos[xc])    \n",
    "\n",
    "vecA1 = np.zeros(len(xpos), dtype=np.complex_)   \n",
    "vecB1 = np.zeros(len(xpos), dtype=np.complex_)    \n",
    "vpCW  = np.zeros(len(xpos), dtype=float      ) # for the Classical Walk"
   ]
  },
  {
   "cell_type": "code",
   "execution_count": 6,
   "metadata": {},
   "outputs": [],
   "source": [
    "vpCW[xc] = 1.0\n",
    "  \n",
    "vecA1[xc]  = np.cos(gamBloch/2)                       \n",
    "vecB1[xc]  = np.sin(gamBloch/2) * np.exp(1j*phiBloch) \n",
    "\n",
    "vpQW = abs(vecA1)**2 + abs(vecB1)**2"
   ]
  },
  {
   "cell_type": "code",
   "execution_count": 7,
   "metadata": {},
   "outputs": [
    {
     "name": "stdout",
     "output_type": "stream",
     "text": [
      "[1. 1. 1. 1. 1. 1. 1. 1. 1. 1. 1. 1. 1. 1. 1. 1. 1. 1. 1. 1. 1. 1. 1. 1.\n",
      " 1. 1. 1. 1. 1. 1. 1. 1. 1. 1. 1. 1. 1. 1. 1. 1. 1. 1. 1. 1. 1. 1. 1. 1.\n",
      " 1. 1. 1. 1. 1. 1. 1. 1. 1. 1. 1. 1. 1. 1. 1. 1. 1. 1. 1. 1. 1. 1. 1. 1.\n",
      " 1. 1. 1. 1. 1. 1. 1. 1. 1. 1. 1. 1. 1. 1. 1. 1. 1. 1. 1. 1. 1. 1. 1. 1.\n",
      " 1. 1. 1. 1. 1.]\n"
     ]
    }
   ],
   "source": [
    "listSumP  = [ np.sum( vpQW ) ]\n",
    "listX1_qw = [  np.sum( vpQW*xpos ) ]\n",
    "listX1_cw = [  np.sum( vpCW*xpos ) ]\n",
    "listX2_qw = [  np.sum( vpQW*(xpos**2) ) ]\n",
    "listX2_cw = [  np.sum( vpCW*(xpos**2) ) ]\n",
    "\n",
    "#--------------------------------   dinamics: BEGIN    -------------------------------#\n",
    "for t in np.arange(1,len(vtime),1):    \n",
    "  \n",
    "        # Quantum walk\n",
    "        dx = vdx[t]    \n",
    "        vecA1, vecB1 = recursive_qw_dx_A_B()\n",
    " \n",
    "        # Computing coin components prob\n",
    "        vpQW = abs(vecA1)**2 + abs(vecB1)**2\n",
    "        listSumP.append(  np.sum(vpQW) ) \n",
    "\n",
    "        # Classical walk\n",
    "        vpCW = recursive_CW()\n",
    "\n",
    "        \n",
    "        # Computing the statistical moments\n",
    "        listX1_qw.append(  np.sum( vpQW*xpos ) )\n",
    "        listX1_cw.append(  np.sum( vpCW*xpos ) )\n",
    "\n",
    "        listX2_qw.append(  np.sum( vpQW*(xpos**2) ) )        \n",
    "        listX2_cw.append(  np.sum( vpCW*(xpos**2) ) )\n",
    "\n",
    "vSumP  = np.asarray(listSumP)\n",
    "vX1_qw = np.asarray(listX1_qw)\n",
    "vX1_cw = np.asarray(listX1_cw)\n",
    "vX2_qw = np.asarray(listX2_qw)\n",
    "vX2_cw = np.asarray(listX2_cw)\n",
    "\n",
    "sd_qw = np.sqrt( vX2_qw - vX1_qw**2 )\n",
    "sd_cw = np.sqrt( vX2_cw - vX1_cw**2 )\n",
    "\n",
    "print(  vSumP )"
   ]
  },
  {
   "cell_type": "code",
   "execution_count": 8,
   "metadata": {},
   "outputs": [
    {
     "data": {
      "image/png": "[encoded data removed]",
      "text/plain": [
       "<Figure size 576x216 with 2 Axes>"
      ]
     },
     "metadata": {
      "needs_background": "light"
     },
     "output_type": "display_data"
    }
   ],
   "source": [
    "plt.figure(figsize=(8,3))\n",
    "\n",
    "plt.subplot(1, 2, 1)  #nrows, ncols, index\n",
    "\n",
    "pltqw = plt.plot(xpos,vpQW, 'b-',  markersize=7, label='qW')\n",
    "pltcw = plt.plot(xpos,vpCW, 'r--', linewidth=2, label='CW')\n",
    "\n",
    "plt.xlim(-tmax,tmax)\n",
    "plt.ylim( 0,1.3*np.max(vpCW))\n",
    "plt.xlabel(r'Position $x$')\n",
    "plt.ylabel(r'Probability $P_t(x)$')\n",
    "plt.title( r'nsteps=%d and $\\theta$=%d$^o$ '%(tmax,thetDeg))\n",
    "plt.legend(ncol=2,loc=\"upper left\")\n",
    "\n",
    "\n",
    "plt.subplot(1, 2, 2)  #nrows, ncols, index\n",
    "plt.loglog(vtime,sd_qw, 'bo',  label='QW')\n",
    "plt.loglog(vtime,sd_cw, 'rs', label='CW')\n",
    "plt.xlabel(r'Time $t$')\n",
    "plt.ylabel(r'standard deviation $\\sigma$')\n",
    "plt.title( r'Time series for $\\sigma$ in log-log scale for $\\theta$=%d$^o$ '%(thetDeg) )\n",
    "plt.legend(ncol=2,loc=\"upper left\")\n",
    "\n",
    "x = vtime[range(50,tmax,1)]  ; y = sd_cw[range(50,tmax,1)]\n",
    "coeffs_cw = np.polyfit(np.log(x), np.log(y), deg=1)\n",
    "\n",
    "x = vtime[range(50,tmax,1)]  ; y = sd_qw[range(50,tmax,1)]\n",
    "coeffs_qw = np.polyfit(np.log(x), np.log(y), deg=1)\n",
    "\n",
    "\n",
    "plt.text(1,13,r'    $\\sigma\\sim t^\\alpha$', fontsize=14)\n",
    "plt.text(1,7,r'$\\alpha_{qw}=$%1.2f'%(coeffs_qw[0]) , fontsize=13)\n",
    "plt.text(1,4,r'$\\alpha_{cw}=$%1.2f'%(coeffs_cw[0]) , fontsize=13)\n",
    "\n",
    "plt.tight_layout()"
   ]
  },
  {
   "cell_type": "code",
   "execution_count": null,
   "metadata": {},
   "outputs": [],
   "source": []
  }
 ],
 "metadata": {
  "anaconda-cloud": {},
  "kernelspec": {
   "display_name": "Python [default]",
   "language": "python",
   "name": "python2"
  },
  "language_info": {
   "codemirror_mode": {
    "name": "ipython",
    "version": 2
   },
   "file_extension": ".py",
   "mimetype": "text/x-python",
   "name": "python",
   "nbconvert_exporter": "python",
   "pygments_lexer": "ipython2",
   "version": "2.7.15"
  }
 },
 "nbformat": 4,
 "nbformat_minor": 2
}
