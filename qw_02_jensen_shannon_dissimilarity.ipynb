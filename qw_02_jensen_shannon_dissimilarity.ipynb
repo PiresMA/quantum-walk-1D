{
 "cells": [
  {
   "cell_type": "code",
   "execution_count": 1,
   "metadata": {},
   "outputs": [],
   "source": [
    "import random as rd\n",
    "import numpy as np\n",
    "import math as mt\n",
    "import cmath as cmt\n",
    "from matplotlib import pylab as plt\n",
    "from scipy.special import entr, xlogy  # Elementwise function for computing entropy"
   ]
  },
  {
   "cell_type": "code",
   "execution_count": 2,
   "metadata": {},
   "outputs": [],
   "source": [
    "tmax  = 40\n",
    "vtime = np.arange(0,tmax+1,1)\n",
    "\n",
    "##   coin=0: KEMPE    coin=1: HADAMARD\n",
    "coin = 1"
   ]
  },
  {
   "cell_type": "code",
   "execution_count": 3,
   "metadata": {},
   "outputs": [],
   "source": [
    "# IC over the Bloch sphere\n",
    "phiDeg  = (1-coin)*0 + coin*90   # Symmetric IC:  coin=0:  phiDeg=90 (KEMPE)    coin=1: phiDeg=90 (HADAMARD)\n",
    "gamDeg  = 90\n",
    "\n",
    "\n",
    "phiBloch = mt.radians(phiDeg)\n",
    "gamBloch = mt.radians(gamDeg)"
   ]
  },
  {
   "cell_type": "code",
   "execution_count": null,
   "metadata": {},
   "outputs": [],
   "source": []
  },
  {
   "cell_type": "code",
   "execution_count": 4,
   "metadata": {},
   "outputs": [],
   "source": [
    "# Jensen-Shannon Dissimilarity\n",
    "def jsd(px1, px2):\n",
    "\n",
    "    ## convert to np.array\n",
    "    px1, px2 = np.asarray(px1), np.asarray(px2)\n",
    "    \n",
    "    ## Normalize vectors to probabilities\n",
    "    px1, px2 = px1/px1.sum(), px2/px2.sum()\n",
    "\n",
    "    mixture = 0.5*(px1 + px2)\n",
    "\n",
    "    entr_of_mean = np.sum( entr( mixture ) ) \n",
    "    mean_of_entr =  0.5*np.sum( entr( px1 ) )  +  0.5*np.sum( entr( px2 ) )\n",
    "    \n",
    "    output = entr_of_mean -  mean_of_entr\n",
    "    \n",
    "    return output/np.log(2)\n",
    "\n",
    "# Compute the components of An|0> + Bn|1>\n",
    "def recursive_qw_dx_A_B():\n",
    "\n",
    "  veci   = range(dx,npos-dx,1) \n",
    "  vecAA1 =  c11*vecA1[ veci - dx ] + c12*vecB1[ veci - dx ] \n",
    "  vecBB1 =  c21*vecA1[ veci + dx ] + c22*vecB1[ veci + dx ] \n",
    " \n",
    "  # Right/Left boundaries\n",
    "  vecAA1 = np.concatenate( (np.zeros(dx),vecAA1,np.zeros(dx)), axis=None)\n",
    "  vecBB1 = np.concatenate( (np.zeros(dx),vecBB1,np.zeros(dx)), axis=None)\n",
    "\n",
    "  return vecAA1,vecBB1\n",
    "\n",
    "def recursive_CW(): # classical walk\n",
    "  veci    = np.arange(dx,npos-dx,1)\n",
    "  vpCW2 = 0.5*vpCW[veci-dx] +  0.5*vpCW[veci+dx]\n",
    "  vpCW3 = np.concatenate( (np.zeros(dx),vpCW2,np.zeros(dx)), axis=None)\n",
    "  \n",
    "  return vpCW3"
   ]
  },
  {
   "cell_type": "code",
   "execution_count": 5,
   "metadata": {},
   "outputs": [],
   "source": [
    "# Now we set all sep lengtht with dx=1, but later we ca use different dx at each time\n",
    "vdx   = np.asarray(  1*np.ones( len(vtime) ) , dtype=int)\n",
    "sumdx = np.sum(vdx) \n",
    "\n",
    "xpos = np.arange(-int(sumdx)-1, int(sumdx)+2, 1) # [-L-2,...,L+2], to avoid Boundary issues we use plus/minus 2 \n",
    "npos = len(xpos)\n",
    "\n",
    "xc     = xpos.size//2      # central position = L   #Index Start at 0 #print(\" xc:\",xc,xpos[xc])    "
   ]
  },
  {
   "cell_type": "code",
   "execution_count": null,
   "metadata": {},
   "outputs": [],
   "source": []
  },
  {
   "cell_type": "code",
   "execution_count": 6,
   "metadata": {},
   "outputs": [
    {
     "data": {
      "text/plain": [
       "<matplotlib.legend.Legend at 0x7f6842c643d0>"
      ]
     },
     "execution_count": 6,
     "metadata": {},
     "output_type": "execute_result"
    },
    {
     "data": {
      "image/png": "[encoded data removed]",
      "text/plain": [
       "<Figure size 432x288 with 1 Axes>"
      ]
     },
     "metadata": {
      "needs_background": "light"
     },
     "output_type": "display_data"
    }
   ],
   "source": [
    "#--------------------------------   dinamics: BEGIN    -------------------------------#\n",
    "for thetDeg in [0, 45, 90]:    # Loop on the theta of the coin operator\n",
    "    \n",
    "    theta = mt.radians(thetDeg)     \n",
    "    c11 = ( (1-coin)*(1 )  +  coin*( 1) ) * np.cos(theta)\n",
    "    c12 = ( (1-coin)*(1j)  +  coin*( 1) ) * np.sin(theta)\n",
    "    c21 = ( (1-coin)*(1j)  +  coin*( 1) ) * np.sin(theta)\n",
    "    c22 = ( (1-coin)*(1 )  +  coin*(-1) ) * np.cos(theta)\n",
    "    \n",
    "    vecA1 = np.zeros(len(xpos), dtype=np.complex_)   \n",
    "    vecB1 = np.zeros(len(xpos), dtype=np.complex_)    \n",
    "    vpCW  = np.zeros(len(xpos), dtype=float      ) # for the Classical Walk\n",
    "\n",
    "    vpCW[xc] = 1.0\n",
    "  \n",
    "    vecA1[xc]  = np.cos(gamBloch/2)                       \n",
    "    vecB1[xc]  = np.sin(gamBloch/2) * np.exp(1j*phiBloch) \n",
    "    \n",
    "    vpQW    = abs(vecA1)**2  +  abs(vecB1)**2 \n",
    "\n",
    "    listSumP   = [ np.sum(vpQW) ]\n",
    "    listJSD_QC = [ jsd(vpCW,vpQW)]\n",
    "    for t in np.arange(1,len(vtime),1):    \n",
    "  \n",
    "        # Quantum walk\n",
    "        dx = vdx[t]    \n",
    "        vecA1, vecB1 = recursive_qw_dx_A_B()\n",
    " \n",
    "        # Computing coin components prob\n",
    "        vpQW = abs(vecA1)**2 + abs(vecB1)**2\n",
    "        listSumP.append(  np.sum(vpQW) ) \n",
    "\n",
    "        # Classical walk\n",
    "        vpCW = recursive_CW()\n",
    "        \n",
    "        listJSD_QC.append( jsd(vpCW,vpQW) )\n",
    "\n",
    "        \n",
    "    vJSD = np.asarray(listJSD_QC)        \n",
    "    plt.plot(vtime,vJSD,'o-',label=r'$\\theta$=%d$^o$ '%(thetDeg) )\n",
    "    \n",
    "plt.xlabel(r'time')\n",
    "plt.ylabel(r'JSD')\n",
    "plt.title( r'Time series for the Jensen-Shannon Dissimilarity' )\n",
    "plt.legend(loc='best', frameon=False)"
   ]
  },
  {
   "cell_type": "code",
   "execution_count": 7,
   "metadata": {},
   "outputs": [],
   "source": [
    "# For an interesting application of the JSD in the context of QW see the recent paper   (Eq. and Fig)"
   ]
  },
  {
   "cell_type": "code",
   "execution_count": null,
   "metadata": {},
   "outputs": [],
   "source": []
  }
 ],
 "metadata": {
  "anaconda-cloud": {},
  "kernelspec": {
   "display_name": "Python [default]",
   "language": "python",
   "name": "python2"
  },
  "language_info": {
   "codemirror_mode": {
    "name": "ipython",
    "version": 2
   },
   "file_extension": ".py",
   "mimetype": "text/x-python",
   "name": "python",
   "nbconvert_exporter": "python",
   "pygments_lexer": "ipython2",
   "version": "2.7.15"
  }
 },
 "nbformat": 4,
 "nbformat_minor": 2
}
